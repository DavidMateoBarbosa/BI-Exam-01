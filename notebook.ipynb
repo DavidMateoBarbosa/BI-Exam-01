{
 "cells": [
  {
   "metadata": {},
   "cell_type": "markdown",
   "source": "![Business Intelligence Banner](https://img.freepik.com/premium-vector/business-intelligence-implementation-word-concepts-dark-blue-banner_106317-24117.jpg?w=826)",
   "id": "b5d976715c4a1a4d"
  },
  {
   "metadata": {},
   "cell_type": "markdown",
   "source": "Al entregar la solución de este parcial, yo, **David Mateo Barbosa Monsalve** con código **202110756** me comprometo a no conversar durante el desarrollo de este examen con ninguna persona que no sea el profesor del curso, sobre aspectos relacionados con el parcial; tampoco utilizaré algún medio de comunicación por voz, texto o intercambio de archivos, para consultar o compartir con otros, información sobre el tema del parcial. Ni usaré alguna IA para resolver las preguntas del parcial. Soy consciente y acepto las consecuencias que acarreará para mi desempeño académico cometer fraude en este parcial.",
   "id": "9b1f552345738c18"
  },
  {
   "metadata": {},
   "cell_type": "code",
   "outputs": [],
   "execution_count": null,
   "source": "",
   "id": "421a55a1d3aa297c"
  }
 ],
 "metadata": {
  "kernelspec": {
   "display_name": "Python 3",
   "language": "python",
   "name": "python3"
  },
  "language_info": {
   "codemirror_mode": {
    "name": "ipython",
    "version": 2
   },
   "file_extension": ".py",
   "mimetype": "text/x-python",
   "name": "python",
   "nbconvert_exporter": "python",
   "pygments_lexer": "ipython2",
   "version": "2.7.6"
  }
 },
 "nbformat": 4,
 "nbformat_minor": 5
}
